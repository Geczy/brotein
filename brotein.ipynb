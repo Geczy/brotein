{
 "cells": [
  {
   "cell_type": "markdown",
   "metadata": {},
   "source": [
    "# Protein Analyzer"
   ]
  },
  {
   "cell_type": "code",
   "execution_count": 16,
   "metadata": {},
   "outputs": [],
   "source": [
    "import sqlalchemy as sq\n",
    "import datetime as dt\n",
    "import pandas as pd"
   ]
  },
  {
   "cell_type": "code",
   "execution_count": 11,
   "metadata": {},
   "outputs": [],
   "source": [
    "engine = sq.create_engine('sqlite:///[databases]/brotein.db')"
   ]
  },
  {
   "cell_type": "code",
   "execution_count": 66,
   "metadata": {},
   "outputs": [],
   "source": [
    "# How bro_df was created\n",
    "\n",
    "# bro_df = pd.DataFrame(columns=['name','cost_per_20g','price','g_per_scoop','servings_in_bag','date_added'])\n",
    "# bro_df.to_sql('brotein', con=engine,index=False, if_exists='replace')"
   ]
  },
  {
   "cell_type": "code",
   "execution_count": 67,
   "metadata": {},
   "outputs": [],
   "source": [
    "def brotein(price, protein_scoop_g, servings, name_str):\n",
    "    '''\n",
    "    Standardizes price of whey\n",
    "    \n",
    "    price: In dollars, for package\n",
    "    protein_scoop_g: grams of protein per scoop\n",
    "    servings: number of servings per package\n",
    "    name_str: name of whey\n",
    "    '''\n",
    "    bro_df = pd.read_sql_table('brotein',con=engine)\n",
    "    date_added = dt.datetime.today().strftime('%m-%d-%Y')\n",
    "    st_cost = round((price/(protein_scoop_g * servings))*20,2)\n",
    "    bro_df = bro_df.append({\n",
    "        'name':name_str,\n",
    "        'cost_per_20g': st_cost,\n",
    "        'price':price,\n",
    "        'g_per_scoop':protein_scoop_g,\n",
    "        'servings_in_bag':servings,\n",
    "        'date_added':date_added\n",
    "    },ignore_index=True)\n",
    "    bro_df.to_sql('brotein', con=engine, index=False, if_exists='replace')\n",
    "\n",
    "    statement = f'''{name_str} is ${st_cost} per 20g protein. Saved in brotein database.'''   \n",
    "    return statement"
   ]
  },
  {
   "cell_type": "code",
   "execution_count": 77,
   "metadata": {},
   "outputs": [
    {
     "data": {
      "text/plain": [
       "'Orgain Organic Plant Based Protein Powder, Vanilla Bean is $0.57 per 20g protein. Saved in brotein database.'"
      ]
     },
     "execution_count": 77,
     "metadata": {},
     "output_type": "execute_result"
    }
   ],
   "source": [
    "brotein(26.29, 23, 40, 'Orgain Organic Plant Based Protein Powder, Vanilla Bean')"
   ]
  },
  {
   "cell_type": "code",
   "execution_count": 78,
   "metadata": {},
   "outputs": [
    {
     "data": {
      "text/html": [
       "<div>\n",
       "<style scoped>\n",
       "    .dataframe tbody tr th:only-of-type {\n",
       "        vertical-align: middle;\n",
       "    }\n",
       "\n",
       "    .dataframe tbody tr th {\n",
       "        vertical-align: top;\n",
       "    }\n",
       "\n",
       "    .dataframe thead th {\n",
       "        text-align: right;\n",
       "    }\n",
       "</style>\n",
       "<table border=\"1\" class=\"dataframe\">\n",
       "  <thead>\n",
       "    <tr style=\"text-align: right;\">\n",
       "      <th></th>\n",
       "      <th>name</th>\n",
       "      <th>cost_per_20g</th>\n",
       "      <th>price</th>\n",
       "      <th>g_per_scoop</th>\n",
       "      <th>servings_in_bag</th>\n",
       "      <th>date_added</th>\n",
       "    </tr>\n",
       "  </thead>\n",
       "  <tbody>\n",
       "    <tr>\n",
       "      <th>0</th>\n",
       "      <td>ON Gold Standard</td>\n",
       "      <td>0.54</td>\n",
       "      <td>47.99</td>\n",
       "      <td>24</td>\n",
       "      <td>74</td>\n",
       "      <td>06-19-2020</td>\n",
       "    </tr>\n",
       "    <tr>\n",
       "      <th>1</th>\n",
       "      <td>Vega</td>\n",
       "      <td>1.29</td>\n",
       "      <td>38.80</td>\n",
       "      <td>30</td>\n",
       "      <td>20</td>\n",
       "      <td>06-19-2020</td>\n",
       "    </tr>\n",
       "    <tr>\n",
       "      <th>2</th>\n",
       "      <td>Body Fortress</td>\n",
       "      <td>0.50</td>\n",
       "      <td>33.88</td>\n",
       "      <td>30</td>\n",
       "      <td>45</td>\n",
       "      <td>06-19-2020</td>\n",
       "    </tr>\n",
       "    <tr>\n",
       "      <th>3</th>\n",
       "      <td>MyProtein: Chocolate</td>\n",
       "      <td>0.53</td>\n",
       "      <td>49.99</td>\n",
       "      <td>19</td>\n",
       "      <td>100</td>\n",
       "      <td>06-19-2020</td>\n",
       "    </tr>\n",
       "    <tr>\n",
       "      <th>4</th>\n",
       "      <td>Soylent Original Powder</td>\n",
       "      <td>5.47</td>\n",
       "      <td>64.00</td>\n",
       "      <td>13</td>\n",
       "      <td>18</td>\n",
       "      <td>06-19-2020</td>\n",
       "    </tr>\n",
       "    <tr>\n",
       "      <th>5</th>\n",
       "      <td>Huel Black Edition, Vanilla, 1 bag</td>\n",
       "      <td>1.72</td>\n",
       "      <td>56.99</td>\n",
       "      <td>39</td>\n",
       "      <td>17</td>\n",
       "      <td>06-19-2020</td>\n",
       "    </tr>\n",
       "    <tr>\n",
       "      <th>6</th>\n",
       "      <td>King Arthur Flour</td>\n",
       "      <td>0.69</td>\n",
       "      <td>49.81</td>\n",
       "      <td>4</td>\n",
       "      <td>360</td>\n",
       "      <td>06-19-2020</td>\n",
       "    </tr>\n",
       "    <tr>\n",
       "      <th>7</th>\n",
       "      <td>Orgain Organic Plant Based Protein Powder, Van...</td>\n",
       "      <td>0.57</td>\n",
       "      <td>26.29</td>\n",
       "      <td>23</td>\n",
       "      <td>40</td>\n",
       "      <td>06-19-2020</td>\n",
       "    </tr>\n",
       "  </tbody>\n",
       "</table>\n",
       "</div>"
      ],
      "text/plain": [
       "                                                name  cost_per_20g  price  \\\n",
       "0                                   ON Gold Standard          0.54  47.99   \n",
       "1                                               Vega          1.29  38.80   \n",
       "2                                      Body Fortress          0.50  33.88   \n",
       "3                               MyProtein: Chocolate          0.53  49.99   \n",
       "4                            Soylent Original Powder          5.47  64.00   \n",
       "5                 Huel Black Edition, Vanilla, 1 bag          1.72  56.99   \n",
       "6                                  King Arthur Flour          0.69  49.81   \n",
       "7  Orgain Organic Plant Based Protein Powder, Van...          0.57  26.29   \n",
       "\n",
       "   g_per_scoop  servings_in_bag  date_added  \n",
       "0           24               74  06-19-2020  \n",
       "1           30               20  06-19-2020  \n",
       "2           30               45  06-19-2020  \n",
       "3           19              100  06-19-2020  \n",
       "4           13               18  06-19-2020  \n",
       "5           39               17  06-19-2020  \n",
       "6            4              360  06-19-2020  \n",
       "7           23               40  06-19-2020  "
      ]
     },
     "execution_count": 78,
     "metadata": {},
     "output_type": "execute_result"
    }
   ],
   "source": [
    "pd.read_sql('brotein',con=engine)"
   ]
  },
  {
   "cell_type": "code",
   "execution_count": null,
   "metadata": {},
   "outputs": [],
   "source": []
  }
 ],
 "metadata": {
  "kernelspec": {
   "display_name": "Python 3",
   "language": "python",
   "name": "python3"
  },
  "language_info": {
   "codemirror_mode": {
    "name": "ipython",
    "version": 3
   },
   "file_extension": ".py",
   "mimetype": "text/x-python",
   "name": "python",
   "nbconvert_exporter": "python",
   "pygments_lexer": "ipython3",
   "version": "3.7.6"
  }
 },
 "nbformat": 4,
 "nbformat_minor": 4
}
